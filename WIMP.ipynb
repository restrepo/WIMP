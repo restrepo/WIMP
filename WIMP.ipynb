{
 "cells": [
  {
   "cell_type": "markdown",
   "metadata": {
    "colab_type": "text",
    "id": "view-in-github"
   },
   "source": [
    "<a href=\"https://colab.research.google.com/github/restrepo/WIMP/blob/master/WIMP.ipynb\" target=\"_parent\"><img src=\"https://colab.research.google.com/assets/colab-badge.svg\" alt=\"Open In Colab\"/></a>"
   ]
  },
  {
   "cell_type": "markdown",
   "metadata": {
    "colab_type": "text",
    "id": "qFOeVPf9k7aL"
   },
   "source": [
    "# Dark Matter Boltzmann equation\n",
    "\n",
    "This program is made to reproduce the behavior of dark matter yield in WIMP and FIMP frameworks based on Chapter 5th, Kolb Turner (Early Universe) and https://arxiv.org/pdf/1009.3690.pdf\n",
    "\n",
    "See also\n",
    "* https://arxiv.org/pdf/1703.07364.pdf\n",
    "* [DM book](https://drive.google.com/file/d/1YVMIrldAAWWDYuMEDc6dKLS4g-13bC1d/view?usp=sharing)"
   ]
  },
  {
   "cell_type": "code",
   "execution_count": 3,
   "metadata": {
    "colab": {
     "base_uri": "https://localhost:8080/",
     "height": 35
    },
    "colab_type": "code",
    "id": "MfyBj2Vqk7aS",
    "outputId": "aa773d2a-5642-42e1-c902-08ce97bab9b1"
   },
   "outputs": [
    {
     "name": "stdout",
     "output_type": "stream",
     "text": [
      "%pylab is deprecated, use %matplotlib inline and import the required libraries.\n",
      "Populating the interactive namespace from numpy and matplotlib\n"
     ]
    }
   ],
   "source": [
    "%pylab inline  \n",
    "import numpy as np\n",
    "from numpy import arange\n",
    "from scipy.integrate import odeint"
   ]
  },
  {
   "cell_type": "markdown",
   "metadata": {},
   "source": [
    "## Expected cross sections"
   ]
  },
  {
   "cell_type": "markdown",
   "metadata": {},
   "source": [
    "From: [1] https://arxiv.org/pdf/1009.3690.pdf"
   ]
  },
  {
   "cell_type": "markdown",
   "metadata": {},
   "source": [
    "$$\n",
    "\\Omega h^{2} \\approx \\frac{3 \\times 10^{-27} \\mathrm{~cm}^{3} / \\mathrm{s}}{\\left\\langle\\sigma_{\\mathrm{ann}} v\\right\\rangle}\n",
    "$$"
   ]
  },
  {
   "cell_type": "markdown",
   "metadata": {},
   "source": [
    "* [$1\\text{ cm}=5.068\\times 10^{13} \\hbar c\\cdot\\text{GeV}^{-1} $](https://www.wolframalpha.com/input?i=1cm+to+hbar*c/GeV)\n",
    "* [$1\\text{ s}=1.519\\times 10^{24} \\hbar \\cdot\\text{GeV}^{-1} $](https://www.wolframalpha.com/input?i=1s+to+hbar/GeV)\n",
    "* [$0.1\\text{ pb}\\approx 2.6\\times 10^{-10}\\, \\hbar c\\cdot \\text{GeV}^{-2}$](https://www.wolframalpha.com/input?i=2.6*10^{-10}GeV^{-2}(hbar*c)**2+to+picobarn)"
   ]
  },
  {
   "cell_type": "markdown",
   "metadata": {},
   "source": [
    "$$\n",
    "\\langle\\sigma v \\rangle= 3\\times 10^{-27}\\frac{(5.068\\times 10^{13} \\hbar c\\cdot\\text{GeV}^{1})^3}{1.519\\times 10^{24}\\hbar\\cdot\\text{GeV}^{-1}}\n",
    "$$"
   ]
  },
  {
   "cell_type": "code",
   "execution_count": 923,
   "metadata": {},
   "outputs": [
    {
     "data": {
      "text/plain": [
       "2.5708296464516136e-10"
      ]
     },
     "execution_count": 923,
     "metadata": {},
     "output_type": "execute_result"
    }
   ],
   "source": [
    "3E-27*(5.068E13)**3/1.519E24"
   ]
  },
  {
   "cell_type": "markdown",
   "metadata": {},
   "source": [
    "$$\\langle\\sigma v \\rangle=2.6\\times 10^{-10}(\\hbar c)^2\\text{GeV}^{-2}c$$"
   ]
  },
  {
   "cell_type": "code",
   "execution_count": 924,
   "metadata": {},
   "outputs": [
    {
     "data": {
      "text/plain": [
       "7.8"
      ]
     },
     "execution_count": 924,
     "metadata": {},
     "output_type": "execute_result"
    }
   ],
   "source": [
    "2.6E-10*3E10"
   ]
  },
  {
   "cell_type": "markdown",
   "metadata": {},
   "source": [
    "$$\\langle\\sigma v \\rangle=7.8\\times (\\hbar c)^2\\text{GeV}^{-2}\\frac{\\text{cm}}{\\text{s}}$$"
   ]
  },
  {
   "cell_type": "markdown",
   "metadata": {},
   "source": [
    "Electroweak cross section are of order of pb\n",
    "$$\n",
    "\\sigma\\sim \\frac{\\langle\\sigma v\\rangle}{c}=2.6\\times 10^{-10}(\\hbar c)^2\\text{GeV}^{-2}\n",
    "=0.1\\text{ pb}\n",
    "$$"
   ]
  },
  {
   "cell_type": "markdown",
   "metadata": {},
   "source": [
    "## Expected abundances"
   ]
  },
  {
   "cell_type": "markdown",
   "metadata": {},
   "source": [
    "https://pdg.lbl.gov/2012/reviews/rpp2012-rev-astrophysical-constants.pdf\n",
    "* $h=0.71$\n",
    "* $\\rho_c^0=1.05375(13) \\times 10^{-5} h^{2}\\left(\\mathrm{GeV} / c^{2}\\right) \\mathrm{cm}^{-3} $"
   ]
  },
  {
   "cell_type": "markdown",
   "metadata": {},
   "source": [
    "From eq. (7.11) https://arxiv.org/pdf/1009.3690.pdf\n",
    "$$ \\Omega_{\\chi} h^{2}=\\frac{\\rho_{\\chi}^{0} h^{2}}{\\rho_{c}^{0}}=\\frac{m_{\\chi} s_{0} Y_{0} h^{2}}{\\rho_{c}^{0}}$$"
   ]
  },
  {
   "cell_type": "markdown",
   "metadata": {},
   "source": [
    "From https://arxiv.org/pdf/hep-ph/0501232.pdf"
   ]
  },
  {
   "cell_type": "markdown",
   "metadata": {},
   "source": [
    "$$\n",
    "s_0=\\left(2 \\pi^{2} / 45\\right) h_{\\mathrm{eff}}\\left(T_{\\gamma}\\right) T_{\\gamma}^{3}\n",
    "$$\n",
    "* $h_{\\mathrm{eff}}(T_\\gamma)=3.9172$\n",
    "* $T_\\gamma=2.725 K$[$=2.4\\times 10^{-13}\\text{ GeV}/k_B$](https://www.wolframalpha.com/input?i=2.725+K+to+GeV/k)$=2.4\\times 10^{-13}\\cdot 5.068\\times 10^{13}\\hbar c/(k_B\\text{cm})=\n",
    "12.2\\,\\hbar c/(k_B\\text{cm})$"
   ]
  },
  {
   "cell_type": "code",
   "execution_count": 927,
   "metadata": {},
   "outputs": [
    {
     "data": {
      "text/plain": [
       "3120.128389914731"
      ]
     },
     "execution_count": 927,
     "metadata": {},
     "output_type": "execute_result"
    }
   ],
   "source": [
    "(2*np.pi**2/45)*3.9172*(12.2)**3"
   ]
  },
  {
   "cell_type": "markdown",
   "metadata": {},
   "source": [
    "$$s_0\\approx 3120\\text{ cm}^3$$"
   ]
  },
  {
   "cell_type": "markdown",
   "metadata": {},
   "source": [
    "$$\\frac{s_0 h^2}{\\rho_c^0}=\\frac{3120\\cdot 0.71^2}{1.05375\\times 10^{-5}}\\approx 1.5\\times 10^8$$"
   ]
  },
  {
   "cell_type": "code",
   "execution_count": 992,
   "metadata": {},
   "outputs": [
    {
     "data": {
      "text/plain": [
       "149256654.80427045"
      ]
     },
     "execution_count": 992,
     "metadata": {},
     "output_type": "execute_result"
    }
   ],
   "source": [
    "3120*0.71**2/1.05375E-5"
   ]
  },
  {
   "cell_type": "markdown",
   "metadata": {},
   "source": [
    "So that"
   ]
  },
  {
   "cell_type": "markdown",
   "metadata": {},
   "source": [
    "$$ \\Omega_{\\chi} h^{2}=1.5\\times 10^8  m_{\\chi}  Y_{0} (c^2/ \\text{GeV})=1.5\\times 10^{10} Y_0 \\left(\\frac{m_\\chi}{100\\text{ GeV/}c^2}\\right) $$"
   ]
  },
  {
   "cell_type": "markdown",
   "metadata": {},
   "source": [
    "To obtain\n",
    "$$ \\Omega_{\\chi} h^{2}=0.118$$\n",
    "we require the adimensional quantity"
   ]
  },
  {
   "cell_type": "code",
   "execution_count": 943,
   "metadata": {},
   "outputs": [
    {
     "data": {
      "text/plain": [
       "7.866666666666666e-12"
      ]
     },
     "execution_count": 943,
     "metadata": {},
     "output_type": "execute_result"
    }
   ],
   "source": [
    "Y0=0.118/1.5E10\n",
    "Y0"
   ]
  },
  {
   "cell_type": "markdown",
   "metadata": {},
   "source": [
    "$$Y_0=8\\times 10^{-12}\\left(\\frac{100\\text{ GeV}/c^2}{m_\\chi}\\right)\\sim 10^{-11}\\left(\\frac{100\\text{ GeV}/c^2}{m_\\chi}\\right) $$"
   ]
  },
  {
   "cell_type": "markdown",
   "metadata": {},
   "source": [
    "## Expected result\n",
    "From [1]"
   ]
  },
  {
   "cell_type": "markdown",
   "metadata": {},
   "source": [
    "![image](./Y.png)"
   ]
  },
  {
   "cell_type": "markdown",
   "metadata": {},
   "source": [
    "## Numerical calculation"
   ]
  },
  {
   "cell_type": "markdown",
   "metadata": {},
   "source": [
    "We use eq. (7.10) of https://arxiv.org/pdf/1009.3690.pdf\n",
    "$$\n",
    "\\frac{d Y}{d x}=-\\left(\\frac{45}{\\pi M_{P}^{2}}\\right)^{-1 / 2} \\frac{g_{*}^{1 / 2} m}{x^{2}}\\langle\\sigma v\\rangle\\left(Y^{2}-Y_{\\text{eq}}^{2}\\right)\n",
    "$$"
   ]
  },
  {
   "cell_type": "markdown",
   "metadata": {},
   "source": [
    "The equilibrium distribution of this particles is consider for the non-relativistic case, as follows (see Kolb & Turner eq 5.25):\n",
    "\n",
    "$$Y_{\\text{eq}}(x) = \\frac{45}{2\\pi^{4}}\\frac{g}{g_{*s}} x^{3/2} e^{-x} = 0.145\\frac{g}{g_{*s}} x^{3/2} e^{-x}\\,, $$\n",
    "\n",
    "where $x = M / T$ and $M= 100$ GeV is the singlet mass taken as constant."
   ]
  },
  {
   "cell_type": "code",
   "execution_count": 591,
   "metadata": {
    "colab": {},
    "colab_type": "code",
    "id": "kfDBXgSBk7aj"
   },
   "outputs": [],
   "source": [
    "# parameters\n",
    "M = 100                                #GeV Singlet Mass\n",
    "Mp = 1.22e19                            #GeV Planck Mass"
   ]
  },
  {
   "cell_type": "code",
   "execution_count": 592,
   "metadata": {},
   "outputs": [],
   "source": [
    "import pandas as pd"
   ]
  },
  {
   "cell_type": "markdown",
   "metadata": {},
   "source": [
    "From fig. 1 https://arxiv.org/pdf/hep-ph/0501232.pdf"
   ]
  },
  {
   "cell_type": "code",
   "execution_count": 944,
   "metadata": {},
   "outputs": [],
   "source": [
    "dfg=pd.DataFrame([\n",
    "    {'T':1E-1,'geff_to_half':4.2},\n",
    "    {'T':1,'geff_to_half':8.7},\n",
    "    {'T':100,'geff_to_half':10.2}\n",
    "    ])"
   ]
  },
  {
   "cell_type": "code",
   "execution_count": 945,
   "metadata": {},
   "outputs": [],
   "source": [
    "from scipy import optimize"
   ]
  },
  {
   "cell_type": "code",
   "execution_count": 946,
   "metadata": {},
   "outputs": [],
   "source": [
    "f=lambda T,a,b,c:a/(1+np.exp(-b*(T-c)))"
   ]
  },
  {
   "cell_type": "code",
   "execution_count": 974,
   "metadata": {},
   "outputs": [
    {
     "name": "stderr",
     "output_type": "stream",
     "text": [
      "/usr/local/lib/python3.9/dist-packages/scipy/optimize/minpack.py:833: OptimizeWarning: Covariance of the parameters could not be estimated\n",
      "  warnings.warn('Covariance of the parameters could not be estimated',\n"
     ]
    }
   ],
   "source": [
    "B,σ=optimize.curve_fit(f,dfg['T'],dfg['geff_to_half'],p0=(0,0,0))"
   ]
  },
  {
   "cell_type": "code",
   "execution_count": 975,
   "metadata": {},
   "outputs": [],
   "source": [
    "gs_to_half= lambda T: f(T,a=B[0],b=B[1],c=B[2])"
   ]
  },
  {
   "cell_type": "code",
   "execution_count": 976,
   "metadata": {},
   "outputs": [
    {
     "data": {
      "text/plain": [
       "Text(0, 0.5, '$g_*^{1/2}$')"
      ]
     },
     "execution_count": 976,
     "metadata": {},
     "output_type": "execute_result"
    },
    {
     "data": {
      "image/png": "[encoded data removed]",
      "text/plain": [
       "<Figure size 432x288 with 1 Axes>"
      ]
     },
     "metadata": {
      "needs_background": "light"
     },
     "output_type": "display_data"
    }
   ],
   "source": [
    "T=np.logspace(np.log10(1E-1),np.log10(100))\n",
    "plt.semilogx(dfg['T'],dfg['geff_to_half'],'ro')\n",
    "plt.plot(T,gs_to_half(T) )\n",
    "plt.xlabel('$T$ [GeV]',size=15)\n",
    "plt.ylabel(r'$g_*^{1/2}$',size=15)"
   ]
  },
  {
   "cell_type": "code",
   "execution_count": 977,
   "metadata": {},
   "outputs": [],
   "source": [
    "from scipy import misc"
   ]
  },
  {
   "cell_type": "code",
   "execution_count": 985,
   "metadata": {},
   "outputs": [],
   "source": [
    "m=100;Mp=1.22e19"
   ]
  },
  {
   "cell_type": "code",
   "execution_count": 986,
   "metadata": {},
   "outputs": [],
   "source": [
    "global k\n",
    "k=1\n",
    "fk=lambda σv:np.sqrt(np.pi*Mp**2/45)*m*σv\n",
    "def BEx(x,m=100):\n",
    "    T=m/x\n",
    "    return k*gs_to_half(T)/x**2\n",
    "def Yeq(x):\n",
    "    return 0.145*x**(3/2)*np.exp(-x)"
   ]
  },
  {
   "cell_type": "code",
   "execution_count": 987,
   "metadata": {},
   "outputs": [],
   "source": [
    "def BE(Y,x):\n",
    "    return -(Y**2-Yeq(x)**2)*BEx(x)"
   ]
  },
  {
   "cell_type": "code",
   "execution_count": 990,
   "metadata": {},
   "outputs": [],
   "source": [
    "from scipy import integrate"
   ]
  },
  {
   "cell_type": "code",
   "execution_count": 991,
   "metadata": {},
   "outputs": [
    {
     "data": {
      "image/png": "[encoded data removed]",
      "text/plain": [
       "<Figure size 432x288 with 1 Axes>"
      ]
     },
     "metadata": {
      "needs_background": "light"
     },
     "output_type": "display_data"
    }
   ],
   "source": [
    "xx=np.logspace(np.log10(1),np.log10(1000),1000)\n",
    "plt.loglog(xx,Yeq(xx),'c',label=r'$Y_{\\rm eq}$')\n",
    "\n",
    "k=fk(σv=1E-18)\n",
    "x=np.logspace(np.log10(1),np.log10(1000),10000)\n",
    "Y=integrate.odeint(BE,Yeq(x[0]),x)\n",
    "plt.loglog(x,Y,'r--',label=r'$\\langle \\sigma v \\rangle = 10^{-18}\\ {\\rm GeV}^{-2}$')\n",
    "k=fk(σv=1E-17)\n",
    "x=np.logspace(np.log10(1),np.log10(1000),10000)\n",
    "Y=integrate.odeint(BE,Yeq(x[0]),x)\n",
    "plt.loglog(x,Y,'k:')\n",
    "k=fk(σv=1E-16)\n",
    "x=np.logspace(np.log10(1),np.log10(1000),10000)\n",
    "Y=integrate.odeint(BE,Yeq(x[0]),x)\n",
    "plt.loglog(x,Y,'k:')\n",
    "k=fk(σv=1E-15)\n",
    "x=np.logspace(np.log10(1),np.log10(1000),10000)\n",
    "Y=integrate.odeint(BE,Yeq(x[0]),x)\n",
    "plt.loglog(x,Y,'k:')\n",
    "k=fk(σv=1E-14)\n",
    "x=np.logspace(np.log10(1),np.log10(1000),10000)\n",
    "Y=integrate.odeint(BE,Yeq(x[0]),x)\n",
    "plt.loglog(x,Y,'k:')\n",
    "k=fk(σv=1E-13)\n",
    "x=np.logspace(np.log10(1),np.log10(1000),10000)\n",
    "Y=integrate.odeint(BE,Yeq(x[0]),x)\n",
    "plt.loglog(x,Y,'k:')\n",
    "k=fk(σv=1E-12)\n",
    "x=np.logspace(np.log10(1),np.log10(1000),10000)\n",
    "Y=integrate.odeint(BE,Yeq(x[0]),x)\n",
    "plt.loglog(x,Y,'k--',\n",
    "          label=r'$\\langle \\sigma v \\rangle = 10^{-12}\\ {\\rm GeV}^{-2}$')\n",
    "plt.hlines(1E-11,1,1000,linestyles='-',color='m',lw=2,label='$Y_0$')\n",
    "plt.ylim(1E-14,1)\n",
    "plt.xlim(1,1000)\n",
    "plt.xlabel('$x = m/T$', size= 15)\n",
    "plt.ylabel('$Y$', size= 15)\n",
    "plt.title('$m = 100$ GeV', size= 15)\n",
    "plt.legend()\n",
    "plt.grid()"
   ]
  },
  {
   "cell_type": "markdown",
   "metadata": {},
   "source": [
    "The required $Y_0$ seem to imply\n",
    "$$\n",
    "\\langle \\sigma v \\rangle = 10^{-8}(\\hbar c)^2\\text{GeV}^{-2}c\n",
    "$$\n",
    "instead of $2.7\\times 10^{-10}(\\hbar c)^2\\text{GeV}^{-2}c$"
   ]
  }
 ],
 "metadata": {
  "colab": {
   "collapsed_sections": [],
   "include_colab_link": true,
   "name": "WIMP.ipynb",
   "provenance": [],
   "version": "0.3.2"
  },
  "kernelspec": {
   "display_name": "Python 3 (ipykernel)",
   "language": "python",
   "name": "python3"
  },
  "language_info": {
   "codemirror_mode": {
    "name": "ipython",
    "version": 3
   },
   "file_extension": ".py",
   "mimetype": "text/x-python",
   "name": "python",
   "nbconvert_exporter": "python",
   "pygments_lexer": "ipython3",
   "version": "3.11.2"
  }
 },
 "nbformat": 4,
 "nbformat_minor": 4
}
